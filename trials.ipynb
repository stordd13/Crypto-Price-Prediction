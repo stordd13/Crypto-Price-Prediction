{
 "cells": [
  {
   "cell_type": "code",
   "execution_count": 68,
   "metadata": {},
   "outputs": [],
   "source": [
    "import numpy as np \n",
    "import pandas as pd\n",
    "import requests\n",
    "import json\n",
    "\n",
    "url = \"https://min-api.cryptocompare.com/data/v2/histoday?fsym=BTC&tsym=USD&limit=2000&api_key={cad6d0cdd43e6187dc1b26e8ab29018845c4d04404725c071eb7e9f5a8f8bd55}\"\n",
    "response = requests.get(url)\n",
    "value = response.json()\n"
   ]
  },
  {
   "cell_type": "code",
   "execution_count": 69,
   "metadata": {},
   "outputs": [],
   "source": [
    "data = value['Data']['Data']\n",
    "df = pd.DataFrame(data)\n",
    "df = df.drop(columns=['conversionType', 'conversionSymbol',\"volumefrom\"])\n",
    "df.rename(columns={\"volumeto\":\"volume\"}, inplace=True)\n",
    "df[\"target\"] = (df['open'] < df['close']).astype(int)\n",
    "\n",
    "s = pd.to_datetime(df['time'], unit='s').dt.strftime(\"%d-%m-%Y\")\n",
    "df.drop(['time'], axis=1, inplace=True)\n",
    "df.insert(0,'time', s)"
   ]
  },
  {
   "cell_type": "code",
   "execution_count": 70,
   "metadata": {},
   "outputs": [
    {
     "data": {
      "text/html": [
       "<div>\n",
       "<style scoped>\n",
       "    .dataframe tbody tr th:only-of-type {\n",
       "        vertical-align: middle;\n",
       "    }\n",
       "\n",
       "    .dataframe tbody tr th {\n",
       "        vertical-align: top;\n",
       "    }\n",
       "\n",
       "    .dataframe thead th {\n",
       "        text-align: right;\n",
       "    }\n",
       "</style>\n",
       "<table border=\"1\" class=\"dataframe\">\n",
       "  <thead>\n",
       "    <tr style=\"text-align: right;\">\n",
       "      <th></th>\n",
       "      <th>time</th>\n",
       "      <th>high</th>\n",
       "      <th>low</th>\n",
       "      <th>open</th>\n",
       "      <th>volume</th>\n",
       "      <th>close</th>\n",
       "      <th>target</th>\n",
       "    </tr>\n",
       "  </thead>\n",
       "  <tbody>\n",
       "    <tr>\n",
       "      <th>0</th>\n",
       "      <td>16-02-2018</td>\n",
       "      <td>10303.14</td>\n",
       "      <td>9720.38</td>\n",
       "      <td>10033.75</td>\n",
       "      <td>1.061828e+09</td>\n",
       "      <td>10188.73</td>\n",
       "      <td>1</td>\n",
       "    </tr>\n",
       "    <tr>\n",
       "      <th>1</th>\n",
       "      <td>17-02-2018</td>\n",
       "      <td>11119.45</td>\n",
       "      <td>10074.07</td>\n",
       "      <td>10188.73</td>\n",
       "      <td>1.327921e+09</td>\n",
       "      <td>11097.21</td>\n",
       "      <td>1</td>\n",
       "    </tr>\n",
       "    <tr>\n",
       "      <th>2</th>\n",
       "      <td>18-02-2018</td>\n",
       "      <td>11288.34</td>\n",
       "      <td>10161.01</td>\n",
       "      <td>11097.21</td>\n",
       "      <td>1.659704e+09</td>\n",
       "      <td>10417.23</td>\n",
       "      <td>0</td>\n",
       "    </tr>\n",
       "    <tr>\n",
       "      <th>3</th>\n",
       "      <td>19-02-2018</td>\n",
       "      <td>11265.96</td>\n",
       "      <td>10336.32</td>\n",
       "      <td>10418.12</td>\n",
       "      <td>1.186536e+09</td>\n",
       "      <td>11182.28</td>\n",
       "      <td>1</td>\n",
       "    </tr>\n",
       "    <tr>\n",
       "      <th>4</th>\n",
       "      <td>20-02-2018</td>\n",
       "      <td>11802.23</td>\n",
       "      <td>11130.95</td>\n",
       "      <td>11182.28</td>\n",
       "      <td>1.640344e+09</td>\n",
       "      <td>11256.43</td>\n",
       "      <td>1</td>\n",
       "    </tr>\n",
       "    <tr>\n",
       "      <th>...</th>\n",
       "      <td>...</td>\n",
       "      <td>...</td>\n",
       "      <td>...</td>\n",
       "      <td>...</td>\n",
       "      <td>...</td>\n",
       "      <td>...</td>\n",
       "      <td>...</td>\n",
       "    </tr>\n",
       "    <tr>\n",
       "      <th>1996</th>\n",
       "      <td>05-08-2023</td>\n",
       "      <td>29110.47</td>\n",
       "      <td>28953.37</td>\n",
       "      <td>29078.88</td>\n",
       "      <td>1.200529e+08</td>\n",
       "      <td>29050.34</td>\n",
       "      <td>0</td>\n",
       "    </tr>\n",
       "    <tr>\n",
       "      <th>1997</th>\n",
       "      <td>06-08-2023</td>\n",
       "      <td>29164.73</td>\n",
       "      <td>28962.89</td>\n",
       "      <td>29050.34</td>\n",
       "      <td>1.266885e+08</td>\n",
       "      <td>29046.16</td>\n",
       "      <td>0</td>\n",
       "    </tr>\n",
       "    <tr>\n",
       "      <th>1998</th>\n",
       "      <td>07-08-2023</td>\n",
       "      <td>29245.24</td>\n",
       "      <td>28671.87</td>\n",
       "      <td>29046.16</td>\n",
       "      <td>4.737760e+08</td>\n",
       "      <td>29182.05</td>\n",
       "      <td>1</td>\n",
       "    </tr>\n",
       "    <tr>\n",
       "      <th>1999</th>\n",
       "      <td>08-08-2023</td>\n",
       "      <td>30206.08</td>\n",
       "      <td>29111.53</td>\n",
       "      <td>29182.05</td>\n",
       "      <td>7.867986e+08</td>\n",
       "      <td>29770.63</td>\n",
       "      <td>1</td>\n",
       "    </tr>\n",
       "    <tr>\n",
       "      <th>2000</th>\n",
       "      <td>09-08-2023</td>\n",
       "      <td>30120.36</td>\n",
       "      <td>29650.92</td>\n",
       "      <td>29770.63</td>\n",
       "      <td>2.340443e+08</td>\n",
       "      <td>29924.76</td>\n",
       "      <td>1</td>\n",
       "    </tr>\n",
       "  </tbody>\n",
       "</table>\n",
       "<p>2001 rows × 7 columns</p>\n",
       "</div>"
      ],
      "text/plain": [
       "            time      high       low      open        volume     close  target\n",
       "0     16-02-2018  10303.14   9720.38  10033.75  1.061828e+09  10188.73       1\n",
       "1     17-02-2018  11119.45  10074.07  10188.73  1.327921e+09  11097.21       1\n",
       "2     18-02-2018  11288.34  10161.01  11097.21  1.659704e+09  10417.23       0\n",
       "3     19-02-2018  11265.96  10336.32  10418.12  1.186536e+09  11182.28       1\n",
       "4     20-02-2018  11802.23  11130.95  11182.28  1.640344e+09  11256.43       1\n",
       "...          ...       ...       ...       ...           ...       ...     ...\n",
       "1996  05-08-2023  29110.47  28953.37  29078.88  1.200529e+08  29050.34       0\n",
       "1997  06-08-2023  29164.73  28962.89  29050.34  1.266885e+08  29046.16       0\n",
       "1998  07-08-2023  29245.24  28671.87  29046.16  4.737760e+08  29182.05       1\n",
       "1999  08-08-2023  30206.08  29111.53  29182.05  7.867986e+08  29770.63       1\n",
       "2000  09-08-2023  30120.36  29650.92  29770.63  2.340443e+08  29924.76       1\n",
       "\n",
       "[2001 rows x 7 columns]"
      ]
     },
     "execution_count": 70,
     "metadata": {},
     "output_type": "execute_result"
    }
   ],
   "source": [
    "df"
   ]
  },
  {
   "cell_type": "code",
   "execution_count": 3,
   "metadata": {},
   "outputs": [],
   "source": [
    "import yfinance as yf\n",
    "import os\n",
    "import pandas as pd"
   ]
  },
  {
   "cell_type": "code",
   "execution_count": 4,
   "metadata": {},
   "outputs": [],
   "source": [
    "btc_ticker = yf.Ticker(\"BTC-USD\")"
   ]
  },
  {
   "cell_type": "code",
   "execution_count": 5,
   "metadata": {},
   "outputs": [],
   "source": [
    "if os.path.exists(\"btc.csv\"):\n",
    "    btc = pd.read_csv(\"btc.csv\", index_col=0)\n",
    "else:\n",
    "    btc = btc_ticker.history(period=\"max\")\n",
    "    btc.to_csv(\"btc.csv\")"
   ]
  },
  {
   "cell_type": "code",
   "execution_count": 6,
   "metadata": {},
   "outputs": [],
   "source": [
    "btc.index = pd.to_datetime(btc.index)"
   ]
  },
  {
   "cell_type": "code",
   "execution_count": 7,
   "metadata": {},
   "outputs": [],
   "source": [
    "del btc[\"Dividends\"]\n",
    "del btc[\"Stock Splits\"]"
   ]
  },
  {
   "cell_type": "code",
   "execution_count": 8,
   "metadata": {},
   "outputs": [],
   "source": [
    "btc.columns = [c.lower() for c in btc.columns]"
   ]
  },
  {
   "cell_type": "code",
   "execution_count": 9,
   "metadata": {},
   "outputs": [
    {
     "data": {
      "text/plain": [
       "<Axes: xlabel='Date'>"
      ]
     },
     "execution_count": 9,
     "metadata": {},
     "output_type": "execute_result"
    },
    {
     "data": {
      "image/png": "[encoded data removed]",
      "text/plain": [
       "<Figure size 640x480 with 1 Axes>"
      ]
     },
     "metadata": {},
     "output_type": "display_data"
    }
   ],
   "source": [
    "btc.plot.line(y=\"close\", use_index=True)"
   ]
  },
  {
   "cell_type": "code",
   "execution_count": null,
   "metadata": {},
   "outputs": [],
   "source": []
  }
 ],
 "metadata": {
  "kernelspec": {
   "display_name": "crypto",
   "language": "python",
   "name": "python3"
  },
  "language_info": {
   "codemirror_mode": {
    "name": "ipython",
    "version": 3
   },
   "file_extension": ".py",
   "mimetype": "text/x-python",
   "name": "python",
   "nbconvert_exporter": "python",
   "pygments_lexer": "ipython3",
   "version": "3.9.17"
  },
  "orig_nbformat": 4
 },
 "nbformat": 4,
 "nbformat_minor": 2
}
