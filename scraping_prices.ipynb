{
 "cells": [
  {
   "cell_type": "code",
   "execution_count": 56,
   "metadata": {},
   "outputs": [],
   "source": [
    "from bs4 import BeautifulSoup\n",
    "import requests\n",
    "import selenium\n",
    "from selenium import webdriver\n",
    "from pathlib import Path\n",
    "from selenium.webdriver.chrome.options import Options\n",
    "from selenium.webdriver.chrome.service import Service as ChromeService"
   ]
  },
  {
   "cell_type": "code",
   "execution_count": 63,
   "metadata": {},
   "outputs": [],
   "source": [
    "#! pip install selenium==4.4.3"
   ]
  },
  {
   "cell_type": "code",
   "execution_count": 84,
   "metadata": {},
   "outputs": [],
   "source": [
    "\n",
    "\n",
    "def scrape_coingecko_historical_data(coin='bitcoin', days='max'):\n",
    "\n",
    "    base_url = f\"https://www.coingecko.com/en/coins/{coin}/historical_data?start=2018-01-01&end=2023-08-09#panel\"\n",
    "    CHROMEDRIVER_PATH = \"/Applications/chromedriver_mac_arm64/chromedriver\"\n",
    "\n",
    "    options = webdriver.ChromeOptions()\n",
    "    service = ChromeService(executable_path=CHROMEDRIVER_PATH)\n",
    "    browser = webdriver.Chrome(service=service, options=options)\n",
    "\n",
    "    browser.get(base_url)\n",
    "    browser.implicitly_wait(15)\n",
    "    page_source = browser.page_source\n",
    "    browser.quit()\n",
    "    print(page_source)\n",
    "    # Utiliser BeautifulSoup pour analyser le contenu\n",
    "    soup = BeautifulSoup(page_source, 'html.parser')\n",
    "    \n",
    "    # Trouver la table contenant les données historiques\n",
    "    table = soup.find('table', {'class': 'table'})\n",
    "    \n",
    "    # Récupérer les en-têtes de colonnes\n",
    "    headers = [header.get_text(strip=True) for header in table.find_all('th')]\n",
    "    \n",
    "    # Récupérer les données de chaque ligne\n",
    "    rows = table.find_all('tr')[1:]  # Exclure la première ligne (en-têtes)\n",
    "    data = []\n",
    "    for row in rows:\n",
    "        values = [value.get_text(strip=True) for value in row.find_all('td')]\n",
    "        data.append(dict(zip(headers, values)))\n",
    "    \n",
    "    return data\n",
    "    "
   ]
  },
  {
   "cell_type": "code",
   "execution_count": 85,
   "metadata": {},
   "outputs": [
    {
     "name": "stdout",
     "output_type": "stream",
     "text": [
      "<html lang=\"en-US\" class=\"lang-en\"><head><title>Just a moment...</title><meta http-equiv=\"Content-Type\" content=\"text/html; charset=UTF-8\"><meta http-equiv=\"X-UA-Compatible\" content=\"IE=Edge\"><meta name=\"robots\" content=\"noindex,nofollow\"><meta name=\"viewport\" content=\"width=device-width,initial-scale=1\"><link href=\"/cdn-cgi/styles/challenges.css\" rel=\"stylesheet\"><script src=\"/cdn-cgi/challenge-platform/h/g/orchestrate/chl_page/v1?ray=7f3ffe3e08ba01bf\"></script><script src=\"https://challenges.cloudflare.com/turnstile/v0/g/74ac0d47/api.js?onload=aJ4&amp;render=explicit\" async=\"\" defer=\"\" crossorigin=\"anonymous\"></script></head><body class=\"no-js\"><div class=\"main-wrapper\" role=\"main\"><div class=\"main-content\"><h1 class=\"zone-name-title h1\"><img src=\"/favicon.ico\" class=\"heading-favicon\" alt=\"Icon for www.coingecko.com\">www.coingecko.com</h1><h2 id=\"challenge-running\" class=\"h2\">Checking if the site connection is secure</h2><div id=\"challenge-stage\"></div><div id=\"challenge-spinner\" class=\"spacer loading-spinner\" style=\"display: block; visibility: visible;\"><div class=\"lds-ring\"><div></div><div></div><div></div><div></div></div></div><div id=\"challenge-body-text\" class=\"core-msg spacer\">www.coingecko.com needs to review the security of your connection before proceeding.</div><div id=\"challenge-success\" style=\"display: none;\"><div class=\"h2\"><span class=\"icon-wrapper\"><img class=\"heading-icon\" alt=\"Success icon\" src=\"data:image/png;base64,iVBORw0KGgoAAAANSUhEUgAAADQAAAA0CAMAAADypuvZAAAANlBMVEUAAAAxMTEwMDAxMTExMTEwMDAwMDAwMDAxMTExMTExMTEwMDAwMDAxMTExMTEwMDAwMDAxMTHB9N+uAAAAEXRSTlMA3zDvfyBAEJC/n3BQz69gX7VMkcMAAAGySURBVEjHnZZbFoMgDEQJiDzVuv/NtgbtFGuQ4/zUKpeMIQbUhXSKE5l1XSn4pFWHRm/WShT1HRLWC01LGxFEVkCc30eYkLJ1Sjk9pvkw690VY6k8DWP9OM9yMG0Koi+mi8XA36NXmW0UXra4eJ3iwHfrfXVlgL0NqqGBHdqfeQhMmyJ48WDuKP81h3+SMPeRKkJcSXiLUK4XTHCjESOnz1VUXQoc6lgi2x4cI5aTQ201Mt8wHysI5fc05M5c81uZEtHcMKhxZ7iYEty1GfhLvGKpm+EYkdGxm1F5axmcB93DoORIbXfdN7f+hlFuyxtDP+sxtBnF43cIYwaZAWRgzxIoiXEMESoPlMhwLRDXeK772CAzXEdBRV7cmnoVBp0OSlyGidEzJTFq5hhcsA5388oSGM6b5p+qjpZrBlMS9xj4AwXmz108ukU1IomM3ceiW0CDwHCqp1NjAqXlFrbga+xuloQJ+tuyfbIBPNpqnmxqT7dPaOnZqBfhSBCteJAxWj58zLk2xgg+SPGYM6dRO6WczSnIxxwEExRaO+UyCUhbOp7CGQ+kxSUfNtLQFC+Po29vvy7jj4y0yAAAAABJRU5ErkJggg==\"></span>Connection is secure</div><div class=\"core-msg spacer\">Proceeding...</div></div><noscript><div id=\"challenge-error-title\"><div class=\"h2\"><span class=\"icon-wrapper\"><div class=\"heading-icon warning-icon\"></div></span><span id=\"challenge-error-text\">Enable JavaScript and cookies to continue</span></div></div></noscript></div></div><script>(function(){window._cf_chl_opt={cvId: '2',cZone: 'www.coingecko.com',cType: 'managed',cNounce: '41641',cRay: '7f3ffe3e08ba01bf',cHash: '92091b3d0764ad9',cUPMDTk: \"\\/en\\/coins\\/bitcoin\\/historical_data?start=2018-01-01&end=2023-08-09&__cf_chl_tk=o4lAUdiHnbUt6wnReSIO1zUEh4NL1GsMCydzyqaNHSA-1691584045-0-gaNycGzNDLs\",cFPWv: 'g',cTTimeMs: '1000',cMTimeMs: '0',cTplV: 5,cTplB: 'cf',cK: \"\",fa: \"/en/coins/bitcoin/historical_data?start=2018-01-01&amp;end=2023-08-09&amp;__cf_chl_f_tk=o4lAUdiHnbUt6wnReSIO1zUEh4NL1GsMCydzyqaNHSA-1691584045-0-gaNycGzNDLs\",md: \"vbGSZCQHP8tepmEQ0uvYThhdPQd6oWd.bYyo6i.8fnk-1691584045-0-AaGU0CfIoNQUoi9nUvHXiAz1G10L6wyl0gLfmuNNRXno6RxlxVTt__gPAjDWlRt0MrZikFuNc9WS4T57oLmL79_YT7tm2YzCtWpJ96PrBVoSGopXOpWEG8PWatGON_46IVBgSC5DrSIOEE5cUe34A_X-zY0jcfp1aAOK6xjzQoPw5UoCsKz64f1THIMoZGPleo6L2ntDAe11zblCBRMKdkJWn0kLfSXLWuBRjoc79FlcQ81QeErIwSsZIAYnscCC1rUEScM_ml2xDfuKTI0o08Y-dqcdbdm6IdeBPIr8zyfczjdHgg1QPk2bEvjW1DSVZ-73Hwcv5luhHDfct4PGNsv69dPa1C8UjSZeVEgs0a7Sl-opwhMXeRYLfxDBQvvwy_E1Ch88m-J5xH83S8Y5rZqBLsedg34uoxxvaEROyVdNmXP8rm6ggXOpjxjfxnDhqxHYiC668-x5z3ZlO0XGTokfhlhuCr7kCmUw0ScXbZ4stenM52xEFtgRLHzzJfzZasRbP7385c-I8bULEObWP-yl7RbVEClxkLhDVhLAUzRvq5kydKD1VLDZrlRoR2027-MrNc3VXPSMwhC-DlAaQgDdskxsH-1hrPE1hVFT0kb6JTV8yopVitnxBVdr9not4o9go9nKibROyyTeCvlG-N6AuRGFvDCWrzgd5q5vFU2F_VcFvpeZWr-E21qwZ5bwAQDTKM1sut0wQoeKGyVmwKtzpMDMIPNzCing8ev9Z3bsV9M-5WhCVfhXsc4yVYnvTp2PAP_zYija7-ihcRg4XPhUGZvGbdbLXUH7VMkii11SXNKHLaUmwruAnhVaa0uvAbimB8mlGbZ3Sm12cxTRm9Rb3z5q8Wa930RZM9ZismQu8Ai-zVF_OMW8pwau82aZtfdZmouCS-2VXgU1MCS2AvzJukk3Sfmg7TwYBtB3p0WENY0OCkLZjNcsZHIUlkz6_p0-M0JsN1uRxwZ8N8GbED_FcuA057q2FJ-cIYfugYpj93nRLRb6Hik9dlOE_s9Si8Acvj7lyBNyPKGCcTED1e6yvKC6GI8KPfgFXRD7ffeg-aETrfJtTcqVzATfCRZ32ZrsKywD5fPVJAu1tdULsOpDo5qpiFFzGAGz8BacHaL-6UWqzOrQ6ZByKTlhMt2dGKrLNiQPQu-az4IfKBfzT2wdYIPkpfNu2NCm6tPcbCuo6wxNAP3wEGnROAeWuTBUxqOQMtQlmcfcym0Oa6c4N6YbbO-nqYqpOfD4zK2E9UMNcm8qeO-xTa3AiMd_vpVmxQr4jXEKf0TVQKUeoVgGW_bIb2z6HK7DaoNPVY6GrSWWsU1WhU4sGDkhNwtgzdq_LYSKw99485uqWEv_yH_j60e_CGhCf3yFJv7Xh3-7myRRM5-Ju7v4qmDXdUIDGnMYIVaauctLiKTEWymOdIw74j--bhc3mTFxSn-OvTSldR5600RUrH4Ri0p-NZ4zgJDPZ5nS7AhIKO4-tpCI4PeMXTcdIEeQU9QSRDSfJu2oXfAx9BiSJbhyqooZMmSrOfXjaObs_wEcWRLgCxNIT9-PejdqrTlUkEmF05XoKB_24WAQDfY5juvQmUbqNC9-XOdeKasqx1jB3T9If3p_NgxSrkCFo9VNqOnD7GEuoiA2dvVKh6l8mfPdAE-fQlUWY69vzVJKH_vqiP4RoX_BjRYRYSWhMJxEUiXbDZezU9QN091KuJ6EOnNFR6hLphNI1nZX4Hp2bsOWICCxrWekvH3RedGnHacIchKPGcNRMiK3TYXXH99tJkSxGj8KNLr29DOB6ULLRITCaLPq6qQa7Zmz7qCU_uNd4BsCodqIKnP6cLbQb6by2koAjpM_n1PKh8BqAHzf_WybV9ByLMnJHtbPVDnT471UvuwbUROyC1a46k8QsW6lTHGQmtyKNXDsEJLDcuFjQV-A2X7mvrCaZxpxafJi4oHgZVDu8HEvMNJlF52iq02fRxEEjsgFg2zAtlC58AaD5C5pYrZ6jYl_bSIacwh0Fo__2yLRoPpoALtVPtYshICyWM-CjG-rJWtHVSqeY7tligKr6EfI2LjfM3NfeqtXckvipcOYGuH3QprNPK5Hc7CYywlIMu1Qp9cCmlsaR4eqzsByknciWZ0ml-ni3FyuXkUajFL7bj8sLIAY0B26YfgOfrhbAmdZf3XDBBBkSAguNuRW7dFpcPSTpLm6x0Xd4YBtUmYzHA0fMs1uUEpq1wNPACtRWGNil5-ghAKbk6-hLtCHm68FIIOlZlTvmeDcRuaL7EGXAyHUe17r6nBzh7WYAV7vixQ0-uOQqNjX3S5LPm0s9hRyZ-lFl1FprfJbL0DCoqGvgqFVmykFzdMb1YXXQSQ7faxHsgUUDc2q0op8iJlIjo0VW0xkIKY2NNzDxZuiU56GIHXsYyjLVWeola1rjn5_lFLrtOpd9JBVDnLu9mLGEIYV4BJJIMEkABDb2U-pn16SuwE7KsxRYyrtZ3N6LQsoo-02Px7WLJOG9s7cm73grFpc-yuVWf0WFuG9b4cVvy3t8qhw5sEPxEyWx1BHQc43cc0zqqyWbJil1_46o2Fbj51rWEFY8fdmi7LUYeT2SGZ_cTbCVZcJeim7BEkKrl9_fg_2Jv-XhaxkN6ufhd9IA34Owu1hwPJyiUWtu8vuE2Wk3nnfroXYfx_8C-O8-TydIz-A2eJuyxWM5Q2lsE2OFeL4VzEIVOnhXhXha8JDCrdsdfHg-b13-BzSdUAQfuaCsMU7TH4NpyFY71Vvelvy_mJw5e6Ej4NC09s9TUDHoyQPzwD1-7KnbA5Y5rE4MRmXZUTFuYx1RJGltBWpNi3NlfcJ6Vz7AdHvHXHCvdn2gdZ0_4ZurLvpgZRQ_e_5AjiygcyqyhfnsYLDb6i4IUSzf2yIdj3g5jADAvKn-KAaHZIIUuOK49zThcqGSo2b-6Z6XsvFYswqKkqoE99xbCWuDsqYoK6NesnmM93q3_Yf1WfSqG-Vxbvf5JNvjtpRbmbuccUzx4YUM2L8habktGtOAdSnvAJuaYdkhLBC542MZgIt0xhmnroUvz-MmA47SjZoHpTWmMYFYGp1fVn_EBY_d7rqa2Kp1lipRioQmiOa0Fiws7_hgTz5_sfiUUGdx0_Q1Y54daZywvx_xh6BfaZMJgcP4PP_9f8qs3CNeD9zZfSpFIKv-LhJcUNDk6cP_Uq8on1qzMyi07JbIw\",cRq: {ru: 'aHR0cHM6Ly93d3cuY29pbmdlY2tvLmNvbS9lbi9jb2lucy9iaXRjb2luL2hpc3RvcmljYWxfZGF0YT9zdGFydD0yMDE4LTAxLTAxJmVuZD0yMDIzLTA4LTA5',ra: 'TW96aWxsYS81LjAgKE1hY2ludG9zaDsgSW50ZWwgTWFjIE9TIFggMTBfMTVfNykgQXBwbGVXZWJLaXQvNTM3LjM2IChLSFRNTCwgbGlrZSBHZWNrbykgQ2hyb21lLzExNS4wLjAuMCBTYWZhcmkvNTM3LjM2',rm: 'R0VU',d: 'yUAQ9mh4Y1MVHgdtFrypml8SKzQILSzP1+ST44bOBwFc2P2Mno4JHgHRn3ydyb2akEqEVfDbsgu3X0qIfHp5rx2PTq5x5P6s0AG0rgOqH6b804qbiS4TSMzwBWl53fQDw37HeRM9X9MIFslgPOa7u6+w3LWCvDfUU8qUVO5lxo+Am+yYDUMbczzaXdoy3/XDLBrNt17U08nxWJ3hMW8EK/tQs0909tWpH+dVttYPYaULwTQXGfPARX+FEfugS9E2h8K4niR6AmiCSZqo+qqTk7nKfYiDcO42ka28JCKtD1munYHkCULzbQDJMnIoGW0wPkDQnqZRlZNIaSl7elbGKlq2E46+EQHesDpTxsESA7AzDomy7iht5GODr5c2lFBvlXCwWHLzwSCkukQnWQX6Dbecm2XFmM3SQz2p1ZfUIh6ZmgTooORdEOfoGmuVlJnIKKVfi9Kkb+KkVOuO41SpPhOc3hJs9zLfH3MawUa0tbtB7D7tQlZSxTiVwTlIk4qWD5glH+OzrS83pEuuM3q0Sh7uEHe/W6RY3jUGLDOoiMM=',t: 'MTY5MTU4NDA0NS43NjgwMDA=',cT: Math.floor(Date.now() / 1000),m: 'C2vPCzSVwgVKPW1+BsWMK59v++w3rJ0r1z6n9UILvRo=',i1: 'F+nxW9KW1M7OjD2jg/D9NQ==',i2: 'IcqXli3hommWoCZv0TLGaQ==',zh: '/ya+pbMCRfmtjVDlrjgz7jm9h6TJnB1RR6OOOqDLgqo=',uh: 't4+sYN7BT87gxptd9nEHs9sipyUVut9BGxqO8owsoq4=',hh: 'qKneT6pmIkJv7IH/3VXCDE/AA6HcaFRbT97gYa8oSz0=',}};var cpo = document.createElement('script');cpo.src = '/cdn-cgi/challenge-platform/h/g/orchestrate/chl_page/v1?ray=7f3ffe3e08ba01bf';window._cf_chl_opt.cOgUHash = location.hash === '' && location.href.indexOf('#') !== -1 ? '#' : location.hash;window._cf_chl_opt.cOgUQuery = location.search === '' && location.href.slice(0, location.href.length - window._cf_chl_opt.cOgUHash.length).indexOf('?') !== -1 ? '?' : location.search;if (window.history && window.history.replaceState) {var ogU = location.pathname + window._cf_chl_opt.cOgUQuery + window._cf_chl_opt.cOgUHash;history.replaceState(null, null, \"\\/en\\/coins\\/bitcoin\\/historical_data?start=2018-01-01&end=2023-08-09&__cf_chl_rt_tk=o4lAUdiHnbUt6wnReSIO1zUEh4NL1GsMCydzyqaNHSA-1691584045-0-gaNycGzNDLs\" + window._cf_chl_opt.cOgUHash);cpo.onload = function() {history.replaceState(null, null, ogU);};}document.getElementsByTagName('head')[0].appendChild(cpo);}());</script><div class=\"footer\" role=\"contentinfo\"><div class=\"footer-inner\"><div class=\"clearfix diagnostic-wrapper\"><div class=\"ray-id\">Ray ID: <code>7f3ffe3e08ba01bf</code></div></div><div class=\"text-center\" id=\"footer-text\">Performance &amp; security by <a rel=\"noopener noreferrer\" href=\"https://www.cloudflare.com?utm_source=challenge&amp;utm_campaign=m\" target=\"_blank\">Cloudflare</a></div></div></div></body></html>\n"
     ]
    },
    {
     "ename": "AttributeError",
     "evalue": "'NoneType' object has no attribute 'find_all'",
     "output_type": "error",
     "traceback": [
      "\u001b[0;31m---------------------------------------------------------------------------\u001b[0m",
      "\u001b[0;31mAttributeError\u001b[0m                            Traceback (most recent call last)",
      "Cell \u001b[0;32mIn[85], line 1\u001b[0m\n\u001b[0;32m----> 1\u001b[0m data \u001b[39m=\u001b[39m scrape_coingecko_historical_data()\n",
      "Cell \u001b[0;32mIn[84], line 22\u001b[0m, in \u001b[0;36mscrape_coingecko_historical_data\u001b[0;34m(coin, days)\u001b[0m\n\u001b[1;32m     19\u001b[0m table \u001b[39m=\u001b[39m soup\u001b[39m.\u001b[39mfind(\u001b[39m'\u001b[39m\u001b[39mtable\u001b[39m\u001b[39m'\u001b[39m, {\u001b[39m'\u001b[39m\u001b[39mclass\u001b[39m\u001b[39m'\u001b[39m: \u001b[39m'\u001b[39m\u001b[39mtable\u001b[39m\u001b[39m'\u001b[39m})\n\u001b[1;32m     21\u001b[0m \u001b[39m# Récupérer les en-têtes de colonnes\u001b[39;00m\n\u001b[0;32m---> 22\u001b[0m headers \u001b[39m=\u001b[39m [header\u001b[39m.\u001b[39mget_text(strip\u001b[39m=\u001b[39m\u001b[39mTrue\u001b[39;00m) \u001b[39mfor\u001b[39;00m header \u001b[39min\u001b[39;00m table\u001b[39m.\u001b[39;49mfind_all(\u001b[39m'\u001b[39m\u001b[39mth\u001b[39m\u001b[39m'\u001b[39m)]\n\u001b[1;32m     24\u001b[0m \u001b[39m# Récupérer les données de chaque ligne\u001b[39;00m\n\u001b[1;32m     25\u001b[0m rows \u001b[39m=\u001b[39m table\u001b[39m.\u001b[39mfind_all(\u001b[39m'\u001b[39m\u001b[39mtr\u001b[39m\u001b[39m'\u001b[39m)[\u001b[39m1\u001b[39m:]  \u001b[39m# Exclure la première ligne (en-têtes)\u001b[39;00m\n",
      "\u001b[0;31mAttributeError\u001b[0m: 'NoneType' object has no attribute 'find_all'"
     ]
    }
   ],
   "source": [
    "data = scrape_coingecko_historical_data()"
   ]
  },
  {
   "cell_type": "code",
   "execution_count": null,
   "metadata": {},
   "outputs": [],
   "source": []
  },
  {
   "cell_type": "code",
   "execution_count": null,
   "metadata": {},
   "outputs": [],
   "source": []
  }
 ],
 "metadata": {
  "kernelspec": {
   "display_name": "crypto",
   "language": "python",
   "name": "python3"
  },
  "language_info": {
   "codemirror_mode": {
    "name": "ipython",
    "version": 3
   },
   "file_extension": ".py",
   "mimetype": "text/x-python",
   "name": "python",
   "nbconvert_exporter": "python",
   "pygments_lexer": "ipython3",
   "version": "3.9.17"
  },
  "orig_nbformat": 4
 },
 "nbformat": 4,
 "nbformat_minor": 2
}
